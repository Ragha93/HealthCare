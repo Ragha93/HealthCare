{
 "cells": [
  {
   "cell_type": "markdown",
   "metadata": {},
   "source": [
    "# PART 1 - Healthcare\n",
    "## 1. Importing all libraries"
   ]
  },
  {
   "cell_type": "markdown",
   "metadata": {},
   "source": [
    "## For numerical calculations and performing operations in csv or excel files\n",
    "\n",
    "## For data visuvalization\n",
    "\n",
    "## Data preprocessing - converting classes to some distinct number, normalizing the columns if the units is not mentioned\n",
    "\n",
    "## Splitting the data\n",
    "\n",
    "## KNN algorithm import\n",
    "\n",
    "## Metrics"
   ]
  },
  {
   "cell_type": "code",
   "execution_count": 1,
   "metadata": {},
   "outputs": [],
   "source": [
    "import numpy as np\n",
    "import pandas as pd\n",
    "import matplotlib.pyplot as plt\n",
    "%matplotlib inline\n",
    "import seaborn as sns\n",
    "from sklearn.preprocessing import LabelEncoder\n",
    "from sklearn.preprocessing import StandardScaler\n",
    "from scipy import stats\n",
    "from sklearn.model_selection import train_test_split\n",
    "from sklearn.neighbors import KNeighborsClassifier\n",
    "from sklearn.metrics import classification_report,confusion_matrix"
   ]
  },
  {
   "cell_type": "markdown",
   "metadata": {},
   "source": [
    "## Importing all data frames and vieweing the dataframes to see their columns"
   ]
  },
  {
   "cell_type": "code",
   "execution_count": 4,
   "metadata": {},
   "outputs": [],
   "source": [
    "df = pd.read_csv(\"C:\\\\Users\\\\kragha\\\\Desktop\\\\Files\\\\AIML\\\\AIML_Project2\\\\part1\\\\Part1 - Normal.csv\")\n",
    "df1 = pd.read_csv(\"C:\\\\Users\\\\kragha\\\\Desktop\\\\Files\\\\AIML\\\\AIML_Project2\\\\part1\\\\Part1 - Type_H.csv\")\n",
    "df2 = pd.read_csv(\"C:\\\\Users\\\\kragha\\\\Desktop\\\\Files\\\\AIML\\\\AIML_Project2\\\\part1\\\\Part1 - Type_S.csv\")"
   ]
  },
  {
   "cell_type": "code",
   "execution_count": 5,
   "metadata": {},
   "outputs": [
    {
     "data": {
      "text/html": [
       "<div>\n",
       "<style scoped>\n",
       "    .dataframe tbody tr th:only-of-type {\n",
       "        vertical-align: middle;\n",
       "    }\n",
       "\n",
       "    .dataframe tbody tr th {\n",
       "        vertical-align: top;\n",
       "    }\n",
       "\n",
       "    .dataframe thead th {\n",
       "        text-align: right;\n",
       "    }\n",
       "</style>\n",
       "<table border=\"1\" class=\"dataframe\">\n",
       "  <thead>\n",
       "    <tr style=\"text-align: right;\">\n",
       "      <th></th>\n",
       "      <th>P_incidence</th>\n",
       "      <th>P_tilt</th>\n",
       "      <th>L_angle</th>\n",
       "      <th>S_slope</th>\n",
       "      <th>P_radius</th>\n",
       "      <th>S_Degree</th>\n",
       "      <th>Class</th>\n",
       "    </tr>\n",
       "  </thead>\n",
       "  <tbody>\n",
       "    <tr>\n",
       "      <th>0</th>\n",
       "      <td>38.505273</td>\n",
       "      <td>16.964297</td>\n",
       "      <td>35.112814</td>\n",
       "      <td>21.540976</td>\n",
       "      <td>127.632875</td>\n",
       "      <td>7.986683</td>\n",
       "      <td>Normal</td>\n",
       "    </tr>\n",
       "    <tr>\n",
       "      <th>1</th>\n",
       "      <td>54.920858</td>\n",
       "      <td>18.968430</td>\n",
       "      <td>51.601455</td>\n",
       "      <td>35.952428</td>\n",
       "      <td>125.846646</td>\n",
       "      <td>2.001642</td>\n",
       "      <td>Normal</td>\n",
       "    </tr>\n",
       "  </tbody>\n",
       "</table>\n",
       "</div>"
      ],
      "text/plain": [
       "   P_incidence     P_tilt    L_angle    S_slope    P_radius  S_Degree   Class\n",
       "0    38.505273  16.964297  35.112814  21.540976  127.632875  7.986683  Normal\n",
       "1    54.920858  18.968430  51.601455  35.952428  125.846646  2.001642  Normal"
      ]
     },
     "execution_count": 5,
     "metadata": {},
     "output_type": "execute_result"
    }
   ],
   "source": [
    "df.head(2)"
   ]
  },
  {
   "cell_type": "code",
   "execution_count": 6,
   "metadata": {},
   "outputs": [
    {
     "data": {
      "text/html": [
       "<div>\n",
       "<style scoped>\n",
       "    .dataframe tbody tr th:only-of-type {\n",
       "        vertical-align: middle;\n",
       "    }\n",
       "\n",
       "    .dataframe tbody tr th {\n",
       "        vertical-align: top;\n",
       "    }\n",
       "\n",
       "    .dataframe thead th {\n",
       "        text-align: right;\n",
       "    }\n",
       "</style>\n",
       "<table border=\"1\" class=\"dataframe\">\n",
       "  <thead>\n",
       "    <tr style=\"text-align: right;\">\n",
       "      <th></th>\n",
       "      <th>P_incidence</th>\n",
       "      <th>P_tilt</th>\n",
       "      <th>L_angle</th>\n",
       "      <th>S_slope</th>\n",
       "      <th>P_radius</th>\n",
       "      <th>S_Degree</th>\n",
       "      <th>Class</th>\n",
       "    </tr>\n",
       "  </thead>\n",
       "  <tbody>\n",
       "    <tr>\n",
       "      <th>0</th>\n",
       "      <td>63.027818</td>\n",
       "      <td>22.552586</td>\n",
       "      <td>39.609117</td>\n",
       "      <td>40.475232</td>\n",
       "      <td>98.672917</td>\n",
       "      <td>-0.254400</td>\n",
       "      <td>Type_H</td>\n",
       "    </tr>\n",
       "    <tr>\n",
       "      <th>1</th>\n",
       "      <td>39.056951</td>\n",
       "      <td>10.060991</td>\n",
       "      <td>25.015378</td>\n",
       "      <td>28.995960</td>\n",
       "      <td>114.405425</td>\n",
       "      <td>4.564259</td>\n",
       "      <td>Type_H</td>\n",
       "    </tr>\n",
       "  </tbody>\n",
       "</table>\n",
       "</div>"
      ],
      "text/plain": [
       "   P_incidence     P_tilt    L_angle    S_slope    P_radius  S_Degree   Class\n",
       "0    63.027818  22.552586  39.609117  40.475232   98.672917 -0.254400  Type_H\n",
       "1    39.056951  10.060991  25.015378  28.995960  114.405425  4.564259  Type_H"
      ]
     },
     "execution_count": 6,
     "metadata": {},
     "output_type": "execute_result"
    }
   ],
   "source": [
    "df1.head(2)"
   ]
  },
  {
   "cell_type": "code",
   "execution_count": 7,
   "metadata": {},
   "outputs": [
    {
     "data": {
      "text/html": [
       "<div>\n",
       "<style scoped>\n",
       "    .dataframe tbody tr th:only-of-type {\n",
       "        vertical-align: middle;\n",
       "    }\n",
       "\n",
       "    .dataframe tbody tr th {\n",
       "        vertical-align: top;\n",
       "    }\n",
       "\n",
       "    .dataframe thead th {\n",
       "        text-align: right;\n",
       "    }\n",
       "</style>\n",
       "<table border=\"1\" class=\"dataframe\">\n",
       "  <thead>\n",
       "    <tr style=\"text-align: right;\">\n",
       "      <th></th>\n",
       "      <th>P_incidence</th>\n",
       "      <th>P_tilt</th>\n",
       "      <th>L_angle</th>\n",
       "      <th>S_slope</th>\n",
       "      <th>P_radius</th>\n",
       "      <th>S_Degree</th>\n",
       "      <th>Class</th>\n",
       "    </tr>\n",
       "  </thead>\n",
       "  <tbody>\n",
       "    <tr>\n",
       "      <th>0</th>\n",
       "      <td>74.377678</td>\n",
       "      <td>32.053104</td>\n",
       "      <td>78.772013</td>\n",
       "      <td>42.324573</td>\n",
       "      <td>143.560690</td>\n",
       "      <td>56.125906</td>\n",
       "      <td>Type_S</td>\n",
       "    </tr>\n",
       "    <tr>\n",
       "      <th>1</th>\n",
       "      <td>89.680567</td>\n",
       "      <td>32.704435</td>\n",
       "      <td>83.130732</td>\n",
       "      <td>56.976132</td>\n",
       "      <td>129.955476</td>\n",
       "      <td>92.027277</td>\n",
       "      <td>Type_S</td>\n",
       "    </tr>\n",
       "  </tbody>\n",
       "</table>\n",
       "</div>"
      ],
      "text/plain": [
       "   P_incidence     P_tilt    L_angle    S_slope    P_radius   S_Degree   Class\n",
       "0    74.377678  32.053104  78.772013  42.324573  143.560690  56.125906  Type_S\n",
       "1    89.680567  32.704435  83.130732  56.976132  129.955476  92.027277  Type_S"
      ]
     },
     "execution_count": 7,
     "metadata": {},
     "output_type": "execute_result"
    }
   ],
   "source": [
    "df2.head(2)"
   ]
  },
  {
   "cell_type": "markdown",
   "metadata": {},
   "source": [
    "## Shape and size of all 3 Dataframes"
   ]
  },
  {
   "cell_type": "code",
   "execution_count": 8,
   "metadata": {},
   "outputs": [
    {
     "name": "stdout",
     "output_type": "stream",
     "text": [
      "(100, 7)\n",
      "(60, 7)\n",
      "(150, 7)\n"
     ]
    }
   ],
   "source": [
    "data = [df,df1,df2]\n",
    "\n",
    "for n in data:\n",
    "    print(n.shape)"
   ]
  },
  {
   "cell_type": "markdown",
   "metadata": {},
   "source": [
    "## Merge all datasets to one as dff and finding dff's shape"
   ]
  },
  {
   "cell_type": "code",
   "execution_count": 9,
   "metadata": {},
   "outputs": [],
   "source": [
    "dff = pd.concat([df,df1,df2],axis=0)"
   ]
  },
  {
   "cell_type": "code",
   "execution_count": 10,
   "metadata": {},
   "outputs": [
    {
     "data": {
      "text/plain": [
       "(310, 7)"
      ]
     },
     "execution_count": 10,
     "metadata": {},
     "output_type": "execute_result"
    }
   ],
   "source": [
    "dff.shape"
   ]
  },
  {
   "cell_type": "markdown",
   "metadata": {},
   "source": [
    "## 2. Data cleansing: checking the data types of all columns and then checking for nulls"
   ]
  },
  {
   "cell_type": "code",
   "execution_count": 11,
   "metadata": {},
   "outputs": [
    {
     "data": {
      "text/plain": [
       "P_incidence    float64\n",
       "P_tilt         float64\n",
       "L_angle        float64\n",
       "S_slope        float64\n",
       "P_radius       float64\n",
       "S_Degree       float64\n",
       "Class           object\n",
       "dtype: object"
      ]
     },
     "execution_count": 11,
     "metadata": {},
     "output_type": "execute_result"
    }
   ],
   "source": [
    "dff.dtypes\n",
    "# Class is of datatype object, it can be changed when we visuvalize data and create train test split"
   ]
  },
  {
   "cell_type": "code",
   "execution_count": 13,
   "metadata": {},
   "outputs": [
    {
     "data": {
      "text/plain": [
       "P_incidence    0\n",
       "P_tilt         0\n",
       "L_angle        0\n",
       "S_slope        0\n",
       "P_radius       0\n",
       "S_Degree       0\n",
       "Class          0\n",
       "dtype: int64"
      ]
     },
     "execution_count": 13,
     "metadata": {},
     "output_type": "execute_result"
    }
   ],
   "source": [
    "dff.isnull().sum()\n",
    "#no null values which means it does not require any corrections"
   ]
  },
  {
   "cell_type": "code",
   "execution_count": 14,
   "metadata": {},
   "outputs": [
    {
     "data": {
      "text/plain": [
       "array(['Normal', 'Nrmal', 'Type_H', 'type_h', 'Type_S', 'tp_s'],\n",
       "      dtype=object)"
      ]
     },
     "execution_count": 14,
     "metadata": {},
     "output_type": "execute_result"
    }
   ],
   "source": [
    "dff['Class'].unique()"
   ]
  },
  {
   "cell_type": "markdown",
   "metadata": {},
   "source": [
    "## We notice the classes having incorrect spellings and some being in capitals - we take this decision only after a confirmation from the domain expertise, in this case it looks clear "
   ]
  },
  {
   "cell_type": "code",
   "execution_count": 16,
   "metadata": {},
   "outputs": [],
   "source": [
    "def class_correction(x):\n",
    "    if x == 'Nrmal':\n",
    "        return 'Normal'\n",
    "    elif x == 'type_h':\n",
    "        return 'Type_H'\n",
    "    elif x == 'tp_s':\n",
    "        return 'Type_S'\n",
    "    else:\n",
    "        return x"
   ]
  },
  {
   "cell_type": "code",
   "execution_count": 17,
   "metadata": {},
   "outputs": [],
   "source": [
    "dff['Class'] = dff['Class'].apply(class_correction)"
   ]
  },
  {
   "cell_type": "code",
   "execution_count": 19,
   "metadata": {},
   "outputs": [
    {
     "data": {
      "text/plain": [
       "array(['Normal', 'Type_H', 'Type_S'], dtype=object)"
      ]
     },
     "execution_count": 19,
     "metadata": {},
     "output_type": "execute_result"
    }
   ],
   "source": [
    "dff['Class'].unique()\n",
    "# Class issues solved"
   ]
  },
  {
   "cell_type": "code",
   "execution_count": 20,
   "metadata": {},
   "outputs": [
    {
     "data": {
      "text/plain": [
       "False"
      ]
     },
     "execution_count": 20,
     "metadata": {},
     "output_type": "execute_result"
    }
   ],
   "source": [
    "dff.isnull().values.any()\n",
    "#No nan values, shorter way of checking"
   ]
  },
  {
   "cell_type": "markdown",
   "metadata": {},
   "source": [
    "## 3. Statistical Analysis"
   ]
  },
  {
   "cell_type": "code",
   "execution_count": 21,
   "metadata": {},
   "outputs": [
    {
     "data": {
      "text/html": [
       "<div>\n",
       "<style scoped>\n",
       "    .dataframe tbody tr th:only-of-type {\n",
       "        vertical-align: middle;\n",
       "    }\n",
       "\n",
       "    .dataframe tbody tr th {\n",
       "        vertical-align: top;\n",
       "    }\n",
       "\n",
       "    .dataframe thead th {\n",
       "        text-align: right;\n",
       "    }\n",
       "</style>\n",
       "<table border=\"1\" class=\"dataframe\">\n",
       "  <thead>\n",
       "    <tr style=\"text-align: right;\">\n",
       "      <th></th>\n",
       "      <th>P_incidence</th>\n",
       "      <th>P_tilt</th>\n",
       "      <th>L_angle</th>\n",
       "      <th>S_slope</th>\n",
       "      <th>P_radius</th>\n",
       "      <th>S_Degree</th>\n",
       "    </tr>\n",
       "  </thead>\n",
       "  <tbody>\n",
       "    <tr>\n",
       "      <th>count</th>\n",
       "      <td>310.000000</td>\n",
       "      <td>310.000000</td>\n",
       "      <td>310.000000</td>\n",
       "      <td>310.000000</td>\n",
       "      <td>310.000000</td>\n",
       "      <td>310.000000</td>\n",
       "    </tr>\n",
       "    <tr>\n",
       "      <th>mean</th>\n",
       "      <td>60.496653</td>\n",
       "      <td>17.542822</td>\n",
       "      <td>51.930930</td>\n",
       "      <td>42.953831</td>\n",
       "      <td>117.920655</td>\n",
       "      <td>26.296694</td>\n",
       "    </tr>\n",
       "    <tr>\n",
       "      <th>std</th>\n",
       "      <td>17.236520</td>\n",
       "      <td>10.008330</td>\n",
       "      <td>18.554064</td>\n",
       "      <td>13.423102</td>\n",
       "      <td>13.317377</td>\n",
       "      <td>37.559027</td>\n",
       "    </tr>\n",
       "    <tr>\n",
       "      <th>min</th>\n",
       "      <td>26.147921</td>\n",
       "      <td>-6.554948</td>\n",
       "      <td>14.000000</td>\n",
       "      <td>13.366931</td>\n",
       "      <td>70.082575</td>\n",
       "      <td>-11.058179</td>\n",
       "    </tr>\n",
       "    <tr>\n",
       "      <th>25%</th>\n",
       "      <td>46.430294</td>\n",
       "      <td>10.667069</td>\n",
       "      <td>37.000000</td>\n",
       "      <td>33.347122</td>\n",
       "      <td>110.709196</td>\n",
       "      <td>1.603727</td>\n",
       "    </tr>\n",
       "    <tr>\n",
       "      <th>50%</th>\n",
       "      <td>58.691038</td>\n",
       "      <td>16.357689</td>\n",
       "      <td>49.562398</td>\n",
       "      <td>42.404912</td>\n",
       "      <td>118.268178</td>\n",
       "      <td>11.767934</td>\n",
       "    </tr>\n",
       "    <tr>\n",
       "      <th>75%</th>\n",
       "      <td>72.877696</td>\n",
       "      <td>22.120395</td>\n",
       "      <td>63.000000</td>\n",
       "      <td>52.695888</td>\n",
       "      <td>125.467674</td>\n",
       "      <td>41.287352</td>\n",
       "    </tr>\n",
       "    <tr>\n",
       "      <th>max</th>\n",
       "      <td>129.834041</td>\n",
       "      <td>49.431864</td>\n",
       "      <td>125.742385</td>\n",
       "      <td>121.429566</td>\n",
       "      <td>163.071041</td>\n",
       "      <td>418.543082</td>\n",
       "    </tr>\n",
       "  </tbody>\n",
       "</table>\n",
       "</div>"
      ],
      "text/plain": [
       "       P_incidence      P_tilt     L_angle     S_slope    P_radius    S_Degree\n",
       "count   310.000000  310.000000  310.000000  310.000000  310.000000  310.000000\n",
       "mean     60.496653   17.542822   51.930930   42.953831  117.920655   26.296694\n",
       "std      17.236520   10.008330   18.554064   13.423102   13.317377   37.559027\n",
       "min      26.147921   -6.554948   14.000000   13.366931   70.082575  -11.058179\n",
       "25%      46.430294   10.667069   37.000000   33.347122  110.709196    1.603727\n",
       "50%      58.691038   16.357689   49.562398   42.404912  118.268178   11.767934\n",
       "75%      72.877696   22.120395   63.000000   52.695888  125.467674   41.287352\n",
       "max     129.834041   49.431864  125.742385  121.429566  163.071041  418.543082"
      ]
     },
     "execution_count": 21,
     "metadata": {},
     "output_type": "execute_result"
    }
   ],
   "source": [
    "dff.describe()\n",
    "#This gives a 5 point summary like box plot where we get an idea about skewness"
   ]
  },
  {
   "cell_type": "code",
   "execution_count": 100,
   "metadata": {},
   "outputs": [
    {
     "data": {
      "text/html": [
       "<div>\n",
       "<style scoped>\n",
       "    .dataframe tbody tr th:only-of-type {\n",
       "        vertical-align: middle;\n",
       "    }\n",
       "\n",
       "    .dataframe tbody tr th {\n",
       "        vertical-align: top;\n",
       "    }\n",
       "\n",
       "    .dataframe thead th {\n",
       "        text-align: right;\n",
       "    }\n",
       "</style>\n",
       "<table border=\"1\" class=\"dataframe\">\n",
       "  <thead>\n",
       "    <tr style=\"text-align: right;\">\n",
       "      <th></th>\n",
       "      <th>P_incidence</th>\n",
       "      <th>P_tilt</th>\n",
       "      <th>L_angle</th>\n",
       "      <th>S_slope</th>\n",
       "      <th>P_radius</th>\n",
       "      <th>S_Degree</th>\n",
       "      <th>Class</th>\n",
       "    </tr>\n",
       "  </thead>\n",
       "  <tbody>\n",
       "    <tr>\n",
       "      <th>0</th>\n",
       "      <td>38.505273</td>\n",
       "      <td>16.964297</td>\n",
       "      <td>35.112814</td>\n",
       "      <td>21.540976</td>\n",
       "      <td>127.632875</td>\n",
       "      <td>7.986683</td>\n",
       "      <td>0</td>\n",
       "    </tr>\n",
       "    <tr>\n",
       "      <th>1</th>\n",
       "      <td>54.920858</td>\n",
       "      <td>18.968430</td>\n",
       "      <td>51.601455</td>\n",
       "      <td>35.952428</td>\n",
       "      <td>125.846646</td>\n",
       "      <td>2.001642</td>\n",
       "      <td>0</td>\n",
       "    </tr>\n",
       "    <tr>\n",
       "      <th>2</th>\n",
       "      <td>44.362490</td>\n",
       "      <td>8.945435</td>\n",
       "      <td>46.902096</td>\n",
       "      <td>35.417055</td>\n",
       "      <td>129.220682</td>\n",
       "      <td>4.994195</td>\n",
       "      <td>0</td>\n",
       "    </tr>\n",
       "    <tr>\n",
       "      <th>3</th>\n",
       "      <td>48.318931</td>\n",
       "      <td>17.452121</td>\n",
       "      <td>48.000000</td>\n",
       "      <td>30.866809</td>\n",
       "      <td>128.980308</td>\n",
       "      <td>-0.910941</td>\n",
       "      <td>0</td>\n",
       "    </tr>\n",
       "    <tr>\n",
       "      <th>4</th>\n",
       "      <td>45.701789</td>\n",
       "      <td>10.659859</td>\n",
       "      <td>42.577846</td>\n",
       "      <td>35.041929</td>\n",
       "      <td>130.178314</td>\n",
       "      <td>-3.388910</td>\n",
       "      <td>0</td>\n",
       "    </tr>\n",
       "    <tr>\n",
       "      <th>...</th>\n",
       "      <td>...</td>\n",
       "      <td>...</td>\n",
       "      <td>...</td>\n",
       "      <td>...</td>\n",
       "      <td>...</td>\n",
       "      <td>...</td>\n",
       "      <td>...</td>\n",
       "    </tr>\n",
       "    <tr>\n",
       "      <th>145</th>\n",
       "      <td>80.111572</td>\n",
       "      <td>33.942432</td>\n",
       "      <td>85.101608</td>\n",
       "      <td>46.169139</td>\n",
       "      <td>125.593624</td>\n",
       "      <td>100.292107</td>\n",
       "      <td>2</td>\n",
       "    </tr>\n",
       "    <tr>\n",
       "      <th>146</th>\n",
       "      <td>95.480229</td>\n",
       "      <td>46.550053</td>\n",
       "      <td>59.000000</td>\n",
       "      <td>48.930176</td>\n",
       "      <td>96.683903</td>\n",
       "      <td>77.283072</td>\n",
       "      <td>2</td>\n",
       "    </tr>\n",
       "    <tr>\n",
       "      <th>147</th>\n",
       "      <td>74.094731</td>\n",
       "      <td>18.823727</td>\n",
       "      <td>76.032156</td>\n",
       "      <td>55.271004</td>\n",
       "      <td>128.405731</td>\n",
       "      <td>73.388216</td>\n",
       "      <td>2</td>\n",
       "    </tr>\n",
       "    <tr>\n",
       "      <th>148</th>\n",
       "      <td>87.679087</td>\n",
       "      <td>20.365613</td>\n",
       "      <td>93.822416</td>\n",
       "      <td>67.313473</td>\n",
       "      <td>120.944829</td>\n",
       "      <td>76.730629</td>\n",
       "      <td>2</td>\n",
       "    </tr>\n",
       "    <tr>\n",
       "      <th>149</th>\n",
       "      <td>48.259920</td>\n",
       "      <td>16.417462</td>\n",
       "      <td>36.329137</td>\n",
       "      <td>31.842457</td>\n",
       "      <td>94.882336</td>\n",
       "      <td>28.343799</td>\n",
       "      <td>2</td>\n",
       "    </tr>\n",
       "  </tbody>\n",
       "</table>\n",
       "<p>310 rows × 7 columns</p>\n",
       "</div>"
      ],
      "text/plain": [
       "     P_incidence     P_tilt    L_angle    S_slope    P_radius    S_Degree  \\\n",
       "0      38.505273  16.964297  35.112814  21.540976  127.632875    7.986683   \n",
       "1      54.920858  18.968430  51.601455  35.952428  125.846646    2.001642   \n",
       "2      44.362490   8.945435  46.902096  35.417055  129.220682    4.994195   \n",
       "3      48.318931  17.452121  48.000000  30.866809  128.980308   -0.910941   \n",
       "4      45.701789  10.659859  42.577846  35.041929  130.178314   -3.388910   \n",
       "..           ...        ...        ...        ...         ...         ...   \n",
       "145    80.111572  33.942432  85.101608  46.169139  125.593624  100.292107   \n",
       "146    95.480229  46.550053  59.000000  48.930176   96.683903   77.283072   \n",
       "147    74.094731  18.823727  76.032156  55.271004  128.405731   73.388216   \n",
       "148    87.679087  20.365613  93.822416  67.313473  120.944829   76.730629   \n",
       "149    48.259920  16.417462  36.329137  31.842457   94.882336   28.343799   \n",
       "\n",
       "     Class  \n",
       "0        0  \n",
       "1        0  \n",
       "2        0  \n",
       "3        0  \n",
       "4        0  \n",
       "..     ...  \n",
       "145      2  \n",
       "146      2  \n",
       "147      2  \n",
       "148      2  \n",
       "149      2  \n",
       "\n",
       "[310 rows x 7 columns]"
      ]
     },
     "execution_count": 100,
     "metadata": {},
     "output_type": "execute_result"
    }
   ],
   "source": [
    "dff"
   ]
  },
  {
   "cell_type": "code",
   "execution_count": null,
   "metadata": {},
   "outputs": [],
   "source": []
  },
  {
   "cell_type": "code",
   "execution_count": null,
   "metadata": {},
   "outputs": [],
   "source": []
  },
  {
   "cell_type": "code",
   "execution_count": 22,
   "metadata": {},
   "outputs": [
    {
     "data": {
      "text/plain": [
       "<Figure size 1296x864 with 0 Axes>"
      ]
     },
     "execution_count": 22,
     "metadata": {},
     "output_type": "execute_result"
    },
    {
     "data": {
      "image/png": "[encoded data removed]",
      "text/plain": [
       "<Figure size 432x288 with 1 Axes>"
      ]
     },
     "metadata": {
      "needs_background": "light"
     },
     "output_type": "display_data"
    },
    {
     "data": {
      "text/plain": [
       "<Figure size 1296x864 with 0 Axes>"
      ]
     },
     "metadata": {},
     "output_type": "display_data"
    }
   ],
   "source": [
    "dff.describe().plot()\n",
    "plt.figure(figsize = (18,12))\n",
    "#The 5 point summary displayed as a plot"
   ]
  },
  {
   "cell_type": "code",
   "execution_count": 23,
   "metadata": {},
   "outputs": [
    {
     "data": {
      "text/html": [
       "<div>\n",
       "<style scoped>\n",
       "    .dataframe tbody tr th:only-of-type {\n",
       "        vertical-align: middle;\n",
       "    }\n",
       "\n",
       "    .dataframe tbody tr th {\n",
       "        vertical-align: top;\n",
       "    }\n",
       "\n",
       "    .dataframe thead th {\n",
       "        text-align: right;\n",
       "    }\n",
       "</style>\n",
       "<table border=\"1\" class=\"dataframe\">\n",
       "  <thead>\n",
       "    <tr style=\"text-align: right;\">\n",
       "      <th></th>\n",
       "      <th>P_incidence</th>\n",
       "      <th>P_tilt</th>\n",
       "      <th>L_angle</th>\n",
       "      <th>S_slope</th>\n",
       "      <th>P_radius</th>\n",
       "      <th>S_Degree</th>\n",
       "    </tr>\n",
       "    <tr>\n",
       "      <th>Class</th>\n",
       "      <th></th>\n",
       "      <th></th>\n",
       "      <th></th>\n",
       "      <th></th>\n",
       "      <th></th>\n",
       "      <th></th>\n",
       "    </tr>\n",
       "  </thead>\n",
       "  <tbody>\n",
       "    <tr>\n",
       "      <th>Normal</th>\n",
       "      <td>100</td>\n",
       "      <td>100</td>\n",
       "      <td>100</td>\n",
       "      <td>100</td>\n",
       "      <td>100</td>\n",
       "      <td>100</td>\n",
       "    </tr>\n",
       "    <tr>\n",
       "      <th>Type_H</th>\n",
       "      <td>60</td>\n",
       "      <td>60</td>\n",
       "      <td>60</td>\n",
       "      <td>60</td>\n",
       "      <td>60</td>\n",
       "      <td>60</td>\n",
       "    </tr>\n",
       "    <tr>\n",
       "      <th>Type_S</th>\n",
       "      <td>150</td>\n",
       "      <td>150</td>\n",
       "      <td>150</td>\n",
       "      <td>150</td>\n",
       "      <td>150</td>\n",
       "      <td>150</td>\n",
       "    </tr>\n",
       "  </tbody>\n",
       "</table>\n",
       "</div>"
      ],
      "text/plain": [
       "        P_incidence  P_tilt  L_angle  S_slope  P_radius  S_Degree\n",
       "Class                                                            \n",
       "Normal          100     100      100      100       100       100\n",
       "Type_H           60      60       60       60        60        60\n",
       "Type_S          150     150      150      150       150       150"
      ]
     },
     "execution_count": 23,
     "metadata": {},
     "output_type": "execute_result"
    }
   ],
   "source": [
    "dff.groupby('Class').count()\n",
    "# We get to see how the classes are distributed in all columns"
   ]
  },
  {
   "cell_type": "code",
   "execution_count": 24,
   "metadata": {},
   "outputs": [
    {
     "name": "stderr",
     "output_type": "stream",
     "text": [
      "C:\\Users\\kragha\\Anaconda3\\lib\\site-packages\\seaborn\\_decorators.py:36: FutureWarning: Pass the following variable as a keyword arg: x. From version 0.12, the only valid positional argument will be `data`, and passing other arguments without an explicit keyword will result in an error or misinterpretation.\n",
      "  warnings.warn(\n"
     ]
    },
    {
     "data": {
      "text/plain": [
       "<AxesSubplot:xlabel='Class', ylabel='count'>"
      ]
     },
     "execution_count": 24,
     "metadata": {},
     "output_type": "execute_result"
    },
    {
     "data": {
      "image/png": "[encoded data removed]",
      "text/plain": [
       "<Figure size 432x288 with 1 Axes>"
      ]
     },
     "metadata": {
      "needs_background": "light"
     },
     "output_type": "display_data"
    }
   ],
   "source": [
    "sns.countplot(dff['Class'])\n",
    "# checking the count of classes"
   ]
  },
  {
   "cell_type": "code",
   "execution_count": 25,
   "metadata": {},
   "outputs": [
    {
     "name": "stderr",
     "output_type": "stream",
     "text": [
      "C:\\Users\\kragha\\Anaconda3\\lib\\site-packages\\seaborn\\distributions.py:2551: FutureWarning: `distplot` is a deprecated function and will be removed in a future version. Please adapt your code to use either `displot` (a figure-level function with similar flexibility) or `histplot` (an axes-level function for histograms).\n",
      "  warnings.warn(msg, FutureWarning)\n"
     ]
    },
    {
     "data": {
      "text/plain": [
       "<AxesSubplot:xlabel='P_incidence', ylabel='Density'>"
      ]
     },
     "execution_count": 25,
     "metadata": {},
     "output_type": "execute_result"
    },
    {
     "data": {
      "image/png": "[encoded data removed]",
      "text/plain": [
       "<Figure size 432x288 with 1 Axes>"
      ]
     },
     "metadata": {
      "needs_background": "light"
     },
     "output_type": "display_data"
    }
   ],
   "source": [
    "sns.distplot(dff['P_incidence'])\n",
    "#we see right skewness, otherwise it is normally distributed"
   ]
  },
  {
   "cell_type": "code",
   "execution_count": 26,
   "metadata": {},
   "outputs": [
    {
     "name": "stderr",
     "output_type": "stream",
     "text": [
      "C:\\Users\\kragha\\Anaconda3\\lib\\site-packages\\seaborn\\distributions.py:2551: FutureWarning: `distplot` is a deprecated function and will be removed in a future version. Please adapt your code to use either `displot` (a figure-level function with similar flexibility) or `histplot` (an axes-level function for histograms).\n",
      "  warnings.warn(msg, FutureWarning)\n"
     ]
    },
    {
     "data": {
      "text/plain": [
       "<AxesSubplot:xlabel='P_tilt', ylabel='Density'>"
      ]
     },
     "execution_count": 26,
     "metadata": {},
     "output_type": "execute_result"
    },
    {
     "data": {
      "image/png": "[encoded data removed]",
      "text/plain": [
       "<Figure size 432x288 with 1 Axes>"
      ]
     },
     "metadata": {
      "needs_background": "light"
     },
     "output_type": "display_data"
    }
   ],
   "source": [
    "sns.distplot(dff['P_tilt'])\n",
    "#normally distributed, right skewed"
   ]
  },
  {
   "cell_type": "code",
   "execution_count": 27,
   "metadata": {},
   "outputs": [
    {
     "name": "stderr",
     "output_type": "stream",
     "text": [
      "C:\\Users\\kragha\\Anaconda3\\lib\\site-packages\\seaborn\\distributions.py:2551: FutureWarning: `distplot` is a deprecated function and will be removed in a future version. Please adapt your code to use either `displot` (a figure-level function with similar flexibility) or `histplot` (an axes-level function for histograms).\n",
      "  warnings.warn(msg, FutureWarning)\n"
     ]
    },
    {
     "data": {
      "text/plain": [
       "<AxesSubplot:xlabel='L_angle', ylabel='Density'>"
      ]
     },
     "execution_count": 27,
     "metadata": {},
     "output_type": "execute_result"
    },
    {
     "data": {
      "image/png": "[encoded data removed]",
      "text/plain": [
       "<Figure size 432x288 with 1 Axes>"
      ]
     },
     "metadata": {
      "needs_background": "light"
     },
     "output_type": "display_data"
    }
   ],
   "source": [
    "sns.distplot(dff['L_angle'])\n",
    "#skewed on right"
   ]
  },
  {
   "cell_type": "code",
   "execution_count": 28,
   "metadata": {},
   "outputs": [
    {
     "name": "stderr",
     "output_type": "stream",
     "text": [
      "C:\\Users\\kragha\\Anaconda3\\lib\\site-packages\\seaborn\\distributions.py:2551: FutureWarning: `distplot` is a deprecated function and will be removed in a future version. Please adapt your code to use either `displot` (a figure-level function with similar flexibility) or `histplot` (an axes-level function for histograms).\n",
      "  warnings.warn(msg, FutureWarning)\n"
     ]
    },
    {
     "data": {
      "text/plain": [
       "<AxesSubplot:xlabel='S_slope', ylabel='Density'>"
      ]
     },
     "execution_count": 28,
     "metadata": {},
     "output_type": "execute_result"
    },
    {
     "data": {
      "image/png": "[encoded data removed]",
      "text/plain": [
       "<Figure size 432x288 with 1 Axes>"
      ]
     },
     "metadata": {
      "needs_background": "light"
     },
     "output_type": "display_data"
    }
   ],
   "source": [
    "sns.distplot(dff['S_slope'])\n",
    "#right skewed, this one has more skewness than others comparitively"
   ]
  },
  {
   "cell_type": "code",
   "execution_count": 29,
   "metadata": {},
   "outputs": [
    {
     "name": "stderr",
     "output_type": "stream",
     "text": [
      "C:\\Users\\kragha\\Anaconda3\\lib\\site-packages\\seaborn\\distributions.py:2551: FutureWarning: `distplot` is a deprecated function and will be removed in a future version. Please adapt your code to use either `displot` (a figure-level function with similar flexibility) or `histplot` (an axes-level function for histograms).\n",
      "  warnings.warn(msg, FutureWarning)\n"
     ]
    },
    {
     "data": {
      "text/plain": [
       "<AxesSubplot:xlabel='P_radius', ylabel='Density'>"
      ]
     },
     "execution_count": 29,
     "metadata": {},
     "output_type": "execute_result"
    },
    {
     "data": {
      "image/png": "[encoded data removed]",
      "text/plain": [
       "<Figure size 432x288 with 1 Axes>"
      ]
     },
     "metadata": {
      "needs_background": "light"
     },
     "output_type": "display_data"
    }
   ],
   "source": [
    "sns.distplot(dff['P_radius'])\n",
    "# we see skewness on left side"
   ]
  },
  {
   "cell_type": "code",
   "execution_count": 30,
   "metadata": {},
   "outputs": [
    {
     "name": "stderr",
     "output_type": "stream",
     "text": [
      "C:\\Users\\kragha\\Anaconda3\\lib\\site-packages\\seaborn\\distributions.py:2551: FutureWarning: `distplot` is a deprecated function and will be removed in a future version. Please adapt your code to use either `displot` (a figure-level function with similar flexibility) or `histplot` (an axes-level function for histograms).\n",
      "  warnings.warn(msg, FutureWarning)\n"
     ]
    },
    {
     "data": {
      "text/plain": [
       "<AxesSubplot:xlabel='S_Degree', ylabel='Density'>"
      ]
     },
     "execution_count": 30,
     "metadata": {},
     "output_type": "execute_result"
    },
    {
     "data": {
      "image/png": "[encoded data removed]",
      "text/plain": [
       "<Figure size 432x288 with 1 Axes>"
      ]
     },
     "metadata": {
      "needs_background": "light"
     },
     "output_type": "display_data"
    }
   ],
   "source": [
    "sns.distplot(dff['S_Degree'])\n",
    "#highly skewed on right"
   ]
  },
  {
   "cell_type": "markdown",
   "metadata": {},
   "source": [
    "## We can also check the box plot of all columns where will get to see its outliers"
   ]
  },
  {
   "cell_type": "code",
   "execution_count": 31,
   "metadata": {},
   "outputs": [
    {
     "data": {
      "text/plain": [
       "Index(['P_incidence', 'P_tilt', 'L_angle', 'S_slope', 'P_radius', 'S_Degree',\n",
       "       'Class'],\n",
       "      dtype='object')"
      ]
     },
     "execution_count": 31,
     "metadata": {},
     "output_type": "execute_result"
    }
   ],
   "source": [
    "dff.columns"
   ]
  },
  {
   "cell_type": "code",
   "execution_count": 32,
   "metadata": {},
   "outputs": [
    {
     "name": "stderr",
     "output_type": "stream",
     "text": [
      "C:\\Users\\kragha\\Anaconda3\\lib\\site-packages\\seaborn\\_decorators.py:36: FutureWarning: Pass the following variable as a keyword arg: x. From version 0.12, the only valid positional argument will be `data`, and passing other arguments without an explicit keyword will result in an error or misinterpretation.\n",
      "  warnings.warn(\n"
     ]
    },
    {
     "data": {
      "text/plain": [
       "<AxesSubplot:xlabel='P_tilt'>"
      ]
     },
     "execution_count": 32,
     "metadata": {},
     "output_type": "execute_result"
    },
    {
     "data": {
      "image/png": "[encoded data removed]",
      "text/plain": [
       "<Figure size 432x288 with 1 Axes>"
      ]
     },
     "metadata": {
      "needs_background": "light"
     },
     "output_type": "display_data"
    }
   ],
   "source": [
    "sns.boxplot('P_tilt',data=dff)\n",
    "#most of the outliers on the right side"
   ]
  },
  {
   "cell_type": "code",
   "execution_count": 33,
   "metadata": {},
   "outputs": [
    {
     "name": "stderr",
     "output_type": "stream",
     "text": [
      "C:\\Users\\kragha\\Anaconda3\\lib\\site-packages\\seaborn\\_decorators.py:36: FutureWarning: Pass the following variable as a keyword arg: x. From version 0.12, the only valid positional argument will be `data`, and passing other arguments without an explicit keyword will result in an error or misinterpretation.\n",
      "  warnings.warn(\n"
     ]
    },
    {
     "data": {
      "text/plain": [
       "<AxesSubplot:xlabel='P_incidence'>"
      ]
     },
     "execution_count": 33,
     "metadata": {},
     "output_type": "execute_result"
    },
    {
     "data": {
      "image/png": "[encoded data removed]",
      "text/plain": [
       "<Figure size 432x288 with 1 Axes>"
      ]
     },
     "metadata": {
      "needs_background": "light"
     },
     "output_type": "display_data"
    }
   ],
   "source": [
    "sns.boxplot('P_incidence',data=dff)\n",
    "#comparitively less outliers"
   ]
  },
  {
   "cell_type": "code",
   "execution_count": 35,
   "metadata": {},
   "outputs": [
    {
     "name": "stderr",
     "output_type": "stream",
     "text": [
      "C:\\Users\\kragha\\Anaconda3\\lib\\site-packages\\seaborn\\_decorators.py:36: FutureWarning: Pass the following variable as a keyword arg: x. From version 0.12, the only valid positional argument will be `data`, and passing other arguments without an explicit keyword will result in an error or misinterpretation.\n",
      "  warnings.warn(\n"
     ]
    },
    {
     "data": {
      "text/plain": [
       "<AxesSubplot:xlabel='L_angle'>"
      ]
     },
     "execution_count": 35,
     "metadata": {},
     "output_type": "execute_result"
    },
    {
     "data": {
      "image/png": "[encoded data removed]",
      "text/plain": [
       "<Figure size 432x288 with 1 Axes>"
      ]
     },
     "metadata": {
      "needs_background": "light"
     },
     "output_type": "display_data"
    }
   ],
   "source": [
    "sns.boxplot('L_angle',data=dff)\n",
    "#the least number outlier in column but still a  huge value"
   ]
  },
  {
   "cell_type": "code",
   "execution_count": 36,
   "metadata": {},
   "outputs": [
    {
     "name": "stderr",
     "output_type": "stream",
     "text": [
      "C:\\Users\\kragha\\Anaconda3\\lib\\site-packages\\seaborn\\_decorators.py:36: FutureWarning: Pass the following variable as a keyword arg: x. From version 0.12, the only valid positional argument will be `data`, and passing other arguments without an explicit keyword will result in an error or misinterpretation.\n",
      "  warnings.warn(\n"
     ]
    },
    {
     "data": {
      "text/plain": [
       "<AxesSubplot:xlabel='S_slope'>"
      ]
     },
     "execution_count": 36,
     "metadata": {},
     "output_type": "execute_result"
    },
    {
     "data": {
      "image/png": "[encoded data removed]",
      "text/plain": [
       "<Figure size 432x288 with 1 Axes>"
      ]
     },
     "metadata": {
      "needs_background": "light"
     },
     "output_type": "display_data"
    }
   ],
   "source": [
    "sns.boxplot('S_slope',data=dff)\n",
    "#the least number outlier in column but yet huge value"
   ]
  },
  {
   "cell_type": "code",
   "execution_count": 37,
   "metadata": {},
   "outputs": [
    {
     "name": "stderr",
     "output_type": "stream",
     "text": [
      "C:\\Users\\kragha\\Anaconda3\\lib\\site-packages\\seaborn\\_decorators.py:36: FutureWarning: Pass the following variable as a keyword arg: x. From version 0.12, the only valid positional argument will be `data`, and passing other arguments without an explicit keyword will result in an error or misinterpretation.\n",
      "  warnings.warn(\n"
     ]
    },
    {
     "data": {
      "text/plain": [
       "<AxesSubplot:xlabel='P_radius'>"
      ]
     },
     "execution_count": 37,
     "metadata": {},
     "output_type": "execute_result"
    },
    {
     "data": {
      "image/png": "[encoded data removed]",
      "text/plain": [
       "<Figure size 432x288 with 1 Axes>"
      ]
     },
     "metadata": {
      "needs_background": "light"
     },
     "output_type": "display_data"
    }
   ],
   "source": [
    "sns.boxplot('P_radius',data=dff)\n",
    "#contains outliers on both the sides"
   ]
  },
  {
   "cell_type": "code",
   "execution_count": 38,
   "metadata": {},
   "outputs": [
    {
     "name": "stderr",
     "output_type": "stream",
     "text": [
      "C:\\Users\\kragha\\Anaconda3\\lib\\site-packages\\seaborn\\_decorators.py:36: FutureWarning: Pass the following variable as a keyword arg: x. From version 0.12, the only valid positional argument will be `data`, and passing other arguments without an explicit keyword will result in an error or misinterpretation.\n",
      "  warnings.warn(\n"
     ]
    },
    {
     "data": {
      "text/plain": [
       "<AxesSubplot:xlabel='S_Degree'>"
      ]
     },
     "execution_count": 38,
     "metadata": {},
     "output_type": "execute_result"
    },
    {
     "data": {
      "image/png": "[encoded data removed]",
      "text/plain": [
       "<Figure size 432x288 with 1 Axes>"
      ]
     },
     "metadata": {
      "needs_background": "light"
     },
     "output_type": "display_data"
    }
   ],
   "source": [
    "sns.boxplot('S_Degree',data=dff)\n",
    "#outliers on right side"
   ]
  },
  {
   "cell_type": "markdown",
   "metadata": {},
   "source": [
    "## Comparing Each columns with target"
   ]
  },
  {
   "cell_type": "code",
   "execution_count": 39,
   "metadata": {},
   "outputs": [
    {
     "data": {
      "text/plain": [
       "<AxesSubplot:xlabel='Class', ylabel='S_Degree'>"
      ]
     },
     "execution_count": 39,
     "metadata": {},
     "output_type": "execute_result"
    },
    {
     "data": {
      "image/png": "[encoded data removed]",
      "text/plain": [
       "<Figure size 432x288 with 1 Axes>"
      ]
     },
     "metadata": {
      "needs_background": "light"
     },
     "output_type": "display_data"
    }
   ],
   "source": [
    "sns.barplot(x='Class', y='S_Degree', data=dff)\n",
    "#A lot of values in Columns S_degree contribute  to class Type_S class (Explained in detail using scatter)"
   ]
  },
  {
   "cell_type": "code",
   "execution_count": 40,
   "metadata": {},
   "outputs": [
    {
     "data": {
      "text/plain": [
       "<AxesSubplot:xlabel='Class', ylabel='P_radius'>"
      ]
     },
     "execution_count": 40,
     "metadata": {},
     "output_type": "execute_result"
    },
    {
     "data": {
      "image/png": "[encoded data removed]",
      "text/plain": [
       "<Figure size 432x288 with 1 Axes>"
      ]
     },
     "metadata": {
      "needs_background": "light"
     },
     "output_type": "display_data"
    }
   ],
   "source": [
    "sns.barplot(x='Class', y='P_radius', data=dff)\n",
    "# Almost Even contribution to all classes (Explained in detail using scatter)"
   ]
  },
  {
   "cell_type": "code",
   "execution_count": 41,
   "metadata": {},
   "outputs": [
    {
     "data": {
      "text/plain": [
       "<AxesSubplot:xlabel='Class', ylabel='S_slope'>"
      ]
     },
     "execution_count": 41,
     "metadata": {},
     "output_type": "execute_result"
    },
    {
     "data": {
      "image/png": "[encoded data removed]",
      "text/plain": [
       "<Figure size 432x288 with 1 Axes>"
      ]
     },
     "metadata": {
      "needs_background": "light"
     },
     "output_type": "display_data"
    }
   ],
   "source": [
    "sns.barplot(x='Class', y='S_slope', data=dff)\n",
    "#A lot of values in Columns S_degree contribute  to class Type_S class and lesser of S_slope for type_H(Explained in detail using scatter)"
   ]
  },
  {
   "cell_type": "code",
   "execution_count": 42,
   "metadata": {},
   "outputs": [
    {
     "data": {
      "text/plain": [
       "<AxesSubplot:xlabel='Class', ylabel='L_angle'>"
      ]
     },
     "execution_count": 42,
     "metadata": {},
     "output_type": "execute_result"
    },
    {
     "data": {
      "image/png": "[encoded data removed]",
      "text/plain": [
       "<Figure size 432x288 with 1 Axes>"
      ]
     },
     "metadata": {
      "needs_background": "light"
     },
     "output_type": "display_data"
    }
   ],
   "source": [
    "sns.barplot(x='Class', y='L_angle', data=dff)\n",
    "#Same as above (Explained in detail using scatter)"
   ]
  },
  {
   "cell_type": "code",
   "execution_count": 43,
   "metadata": {},
   "outputs": [
    {
     "data": {
      "text/plain": [
       "<AxesSubplot:xlabel='Class', ylabel='P_tilt'>"
      ]
     },
     "execution_count": 43,
     "metadata": {},
     "output_type": "execute_result"
    },
    {
     "data": {
      "image/png": "[encoded data removed]",
      "text/plain": [
       "<Figure size 432x288 with 1 Axes>"
      ]
     },
     "metadata": {
      "needs_background": "light"
     },
     "output_type": "display_data"
    }
   ],
   "source": [
    "sns.barplot(x='Class', y='P_tilt', data=dff)\n",
    "#P_tilt contibutes to Type_S as well (Explained in detail using scatter)"
   ]
  },
  {
   "cell_type": "code",
   "execution_count": 44,
   "metadata": {},
   "outputs": [
    {
     "name": "stderr",
     "output_type": "stream",
     "text": [
      "C:\\Users\\kragha\\Anaconda3\\lib\\site-packages\\seaborn\\categorical.py:3704: UserWarning: The `factorplot` function has been renamed to `catplot`. The original name will be removed in a future release. Please update your code. Note that the default `kind` in `factorplot` (`'point'`) has changed `'strip'` in `catplot`.\n",
      "  warnings.warn(msg)\n"
     ]
    },
    {
     "data": {
      "text/plain": [
       "<seaborn.axisgrid.FacetGrid at 0x16cfe8d9820>"
      ]
     },
     "execution_count": 44,
     "metadata": {},
     "output_type": "execute_result"
    },
    {
     "data": {
      "image/png": "[encoded data removed]",
      "text/plain": [
       "<Figure size 360x360 with 1 Axes>"
      ]
     },
     "metadata": {
      "needs_background": "light"
     },
     "output_type": "display_data"
    }
   ],
   "source": [
    "sns.factorplot(x='Class', y='P_incidence', data=dff)\n",
    "#For a change used factor plot to compare categorical variable with continuous data, even here more of P_incidence supports class Type_S"
   ]
  },
  {
   "cell_type": "code",
   "execution_count": 45,
   "metadata": {},
   "outputs": [
    {
     "data": {
      "text/plain": [
       "Index(['P_incidence', 'P_tilt', 'L_angle', 'S_slope', 'P_radius', 'S_Degree',\n",
       "       'Class'],\n",
       "      dtype='object')"
      ]
     },
     "execution_count": 45,
     "metadata": {},
     "output_type": "execute_result"
    }
   ],
   "source": [
    "dff.columns"
   ]
  },
  {
   "cell_type": "code",
   "execution_count": 47,
   "metadata": {},
   "outputs": [
    {
     "name": "stderr",
     "output_type": "stream",
     "text": [
      "C:\\Users\\kragha\\Anaconda3\\lib\\site-packages\\seaborn\\_decorators.py:36: FutureWarning: Pass the following variables as keyword args: x, y. From version 0.12, the only valid positional argument will be `data`, and passing other arguments without an explicit keyword will result in an error or misinterpretation.\n",
      "  warnings.warn(\n"
     ]
    },
    {
     "data": {
      "text/plain": [
       "<Figure size 1440x1296 with 0 Axes>"
      ]
     },
     "execution_count": 47,
     "metadata": {},
     "output_type": "execute_result"
    },
    {
     "data": {
      "image/png": "[encoded data removed]",
      "text/plain": [
       "<Figure size 432x288 with 1 Axes>"
      ]
     },
     "metadata": {
      "needs_background": "light"
     },
     "output_type": "display_data"
    },
    {
     "data": {
      "text/plain": [
       "<Figure size 1440x1296 with 0 Axes>"
      ]
     },
     "metadata": {},
     "output_type": "display_data"
    }
   ],
   "source": [
    "sns.scatterplot('P_incidence','P_tilt',hue ='Class', data=dff)\n",
    "plt.figure(figsize=(20,18))\n",
    "#It is more evident that with increase in P_incidence and P_tilt, it contributes to class Type_S & viceversa for normal"
   ]
  },
  {
   "cell_type": "code",
   "execution_count": 52,
   "metadata": {},
   "outputs": [
    {
     "name": "stderr",
     "output_type": "stream",
     "text": [
      "C:\\Users\\kragha\\Anaconda3\\lib\\site-packages\\seaborn\\_decorators.py:36: FutureWarning: Pass the following variables as keyword args: x, y. From version 0.12, the only valid positional argument will be `data`, and passing other arguments without an explicit keyword will result in an error or misinterpretation.\n",
      "  warnings.warn(\n"
     ]
    },
    {
     "data": {
      "text/plain": [
       "<Figure size 1440x1296 with 0 Axes>"
      ]
     },
     "execution_count": 52,
     "metadata": {},
     "output_type": "execute_result"
    },
    {
     "data": {
      "image/png": "[encoded data removed]",
      "text/plain": [
       "<Figure size 432x288 with 1 Axes>"
      ]
     },
     "metadata": {
      "needs_background": "light"
     },
     "output_type": "display_data"
    },
    {
     "data": {
      "text/plain": [
       "<Figure size 1440x1296 with 0 Axes>"
      ]
     },
     "metadata": {},
     "output_type": "display_data"
    }
   ],
   "source": [
    "sns.scatterplot('L_angle','S_slope',hue ='Class', data=dff)\n",
    "plt.figure(figsize=(20,18))\n",
    "# Here more of L_angle and S_slope relates to Type_S and viceversa contributes to Type_H"
   ]
  },
  {
   "cell_type": "code",
   "execution_count": 53,
   "metadata": {},
   "outputs": [
    {
     "name": "stderr",
     "output_type": "stream",
     "text": [
      "C:\\Users\\kragha\\Anaconda3\\lib\\site-packages\\seaborn\\_decorators.py:36: FutureWarning: Pass the following variables as keyword args: x, y. From version 0.12, the only valid positional argument will be `data`, and passing other arguments without an explicit keyword will result in an error or misinterpretation.\n",
      "  warnings.warn(\n"
     ]
    },
    {
     "data": {
      "text/plain": [
       "<Figure size 1440x1296 with 0 Axes>"
      ]
     },
     "execution_count": 53,
     "metadata": {},
     "output_type": "execute_result"
    },
    {
     "data": {
      "image/png": "[encoded data removed]",
      "text/plain": [
       "<Figure size 432x288 with 1 Axes>"
      ]
     },
     "metadata": {
      "needs_background": "light"
     },
     "output_type": "display_data"
    },
    {
     "data": {
      "text/plain": [
       "<Figure size 1440x1296 with 0 Axes>"
      ]
     },
     "metadata": {},
     "output_type": "display_data"
    }
   ],
   "source": [
    "sns.scatterplot('S_Degree','P_radius',hue ='Class', data=dff)\n",
    "plt.figure(figsize=(20,18))\n",
    "# plt.figure(figsize=(20,10))\n",
    "# S_Degree is a comparitively a very good seperator of class for Type_S"
   ]
  },
  {
   "cell_type": "code",
   "execution_count": 54,
   "metadata": {},
   "outputs": [],
   "source": [
    "le = LabelEncoder()\n",
    "# Now label encoding the classes which will be used for model building and prediction"
   ]
  },
  {
   "cell_type": "code",
   "execution_count": 55,
   "metadata": {},
   "outputs": [],
   "source": [
    "dff['Class'] = le.fit_transform(dff['Class'])"
   ]
  },
  {
   "cell_type": "markdown",
   "metadata": {},
   "source": [
    "## 4.Data pre-processing:"
   ]
  },
  {
   "cell_type": "code",
   "execution_count": 56,
   "metadata": {},
   "outputs": [
    {
     "data": {
      "text/html": [
       "<div>\n",
       "<style scoped>\n",
       "    .dataframe tbody tr th:only-of-type {\n",
       "        vertical-align: middle;\n",
       "    }\n",
       "\n",
       "    .dataframe tbody tr th {\n",
       "        vertical-align: top;\n",
       "    }\n",
       "\n",
       "    .dataframe thead th {\n",
       "        text-align: right;\n",
       "    }\n",
       "</style>\n",
       "<table border=\"1\" class=\"dataframe\">\n",
       "  <thead>\n",
       "    <tr style=\"text-align: right;\">\n",
       "      <th></th>\n",
       "      <th>P_incidence</th>\n",
       "      <th>P_tilt</th>\n",
       "      <th>L_angle</th>\n",
       "      <th>S_slope</th>\n",
       "      <th>P_radius</th>\n",
       "      <th>S_Degree</th>\n",
       "      <th>Class</th>\n",
       "    </tr>\n",
       "  </thead>\n",
       "  <tbody>\n",
       "    <tr>\n",
       "      <th>0</th>\n",
       "      <td>38.505273</td>\n",
       "      <td>16.964297</td>\n",
       "      <td>35.112814</td>\n",
       "      <td>21.540976</td>\n",
       "      <td>127.632875</td>\n",
       "      <td>7.986683</td>\n",
       "      <td>0</td>\n",
       "    </tr>\n",
       "    <tr>\n",
       "      <th>1</th>\n",
       "      <td>54.920858</td>\n",
       "      <td>18.968430</td>\n",
       "      <td>51.601455</td>\n",
       "      <td>35.952428</td>\n",
       "      <td>125.846646</td>\n",
       "      <td>2.001642</td>\n",
       "      <td>0</td>\n",
       "    </tr>\n",
       "    <tr>\n",
       "      <th>2</th>\n",
       "      <td>44.362490</td>\n",
       "      <td>8.945435</td>\n",
       "      <td>46.902096</td>\n",
       "      <td>35.417055</td>\n",
       "      <td>129.220682</td>\n",
       "      <td>4.994195</td>\n",
       "      <td>0</td>\n",
       "    </tr>\n",
       "    <tr>\n",
       "      <th>3</th>\n",
       "      <td>48.318931</td>\n",
       "      <td>17.452121</td>\n",
       "      <td>48.000000</td>\n",
       "      <td>30.866809</td>\n",
       "      <td>128.980308</td>\n",
       "      <td>-0.910941</td>\n",
       "      <td>0</td>\n",
       "    </tr>\n",
       "    <tr>\n",
       "      <th>4</th>\n",
       "      <td>45.701789</td>\n",
       "      <td>10.659859</td>\n",
       "      <td>42.577846</td>\n",
       "      <td>35.041929</td>\n",
       "      <td>130.178314</td>\n",
       "      <td>-3.388910</td>\n",
       "      <td>0</td>\n",
       "    </tr>\n",
       "  </tbody>\n",
       "</table>\n",
       "</div>"
      ],
      "text/plain": [
       "   P_incidence     P_tilt    L_angle    S_slope    P_radius  S_Degree  Class\n",
       "0    38.505273  16.964297  35.112814  21.540976  127.632875  7.986683      0\n",
       "1    54.920858  18.968430  51.601455  35.952428  125.846646  2.001642      0\n",
       "2    44.362490   8.945435  46.902096  35.417055  129.220682  4.994195      0\n",
       "3    48.318931  17.452121  48.000000  30.866809  128.980308 -0.910941      0\n",
       "4    45.701789  10.659859  42.577846  35.041929  130.178314 -3.388910      0"
      ]
     },
     "execution_count": 56,
     "metadata": {},
     "output_type": "execute_result"
    }
   ],
   "source": [
    "dff.head()"
   ]
  },
  {
   "cell_type": "markdown",
   "metadata": {},
   "source": [
    "## Segregate predictors vs target attributes"
   ]
  },
  {
   "cell_type": "code",
   "execution_count": 57,
   "metadata": {},
   "outputs": [],
   "source": [
    "X = dff.drop('Class',axis=1)#feature columns\n",
    "y = dff['Class']#Prediction column"
   ]
  },
  {
   "cell_type": "code",
   "execution_count": 58,
   "metadata": {},
   "outputs": [
    {
     "data": {
      "text/plain": [
       "2    150\n",
       "0    100\n",
       "1     60\n",
       "Name: Class, dtype: int64"
      ]
     },
     "execution_count": 58,
     "metadata": {},
     "output_type": "execute_result"
    }
   ],
   "source": [
    "#since we are not sure about the units of each column in the data and also there is no explanation given, \n",
    "#its always safe to normalize the data using Zscore or standar scaler\n",
    "y.value_counts()"
   ]
  },
  {
   "cell_type": "markdown",
   "metadata": {},
   "source": [
    "## Perform normalisation or scaling if required - Standarad Scaler"
   ]
  },
  {
   "cell_type": "code",
   "execution_count": 59,
   "metadata": {},
   "outputs": [
    {
     "data": {
      "text/html": [
       "<div>\n",
       "<style scoped>\n",
       "    .dataframe tbody tr th:only-of-type {\n",
       "        vertical-align: middle;\n",
       "    }\n",
       "\n",
       "    .dataframe tbody tr th {\n",
       "        vertical-align: top;\n",
       "    }\n",
       "\n",
       "    .dataframe thead th {\n",
       "        text-align: right;\n",
       "    }\n",
       "</style>\n",
       "<table border=\"1\" class=\"dataframe\">\n",
       "  <thead>\n",
       "    <tr style=\"text-align: right;\">\n",
       "      <th></th>\n",
       "      <th>P_incidence</th>\n",
       "      <th>P_tilt</th>\n",
       "      <th>L_angle</th>\n",
       "      <th>S_slope</th>\n",
       "      <th>P_radius</th>\n",
       "      <th>S_Degree</th>\n",
       "    </tr>\n",
       "  </thead>\n",
       "  <tbody>\n",
       "    <tr>\n",
       "      <th>0</th>\n",
       "      <td>-1.277922</td>\n",
       "      <td>-0.057898</td>\n",
       "      <td>-0.907904</td>\n",
       "      <td>-1.597803</td>\n",
       "      <td>0.730468</td>\n",
       "      <td>-0.488288</td>\n",
       "    </tr>\n",
       "    <tr>\n",
       "      <th>1</th>\n",
       "      <td>-0.324010</td>\n",
       "      <td>0.142672</td>\n",
       "      <td>-0.017786</td>\n",
       "      <td>-0.522437</td>\n",
       "      <td>0.596124</td>\n",
       "      <td>-0.647896</td>\n",
       "    </tr>\n",
       "    <tr>\n",
       "      <th>2</th>\n",
       "      <td>-0.937559</td>\n",
       "      <td>-0.860412</td>\n",
       "      <td>-0.271475</td>\n",
       "      <td>-0.562386</td>\n",
       "      <td>0.849889</td>\n",
       "      <td>-0.568091</td>\n",
       "    </tr>\n",
       "    <tr>\n",
       "      <th>3</th>\n",
       "      <td>-0.707649</td>\n",
       "      <td>-0.009077</td>\n",
       "      <td>-0.212206</td>\n",
       "      <td>-0.901920</td>\n",
       "      <td>0.831811</td>\n",
       "      <td>-0.725568</td>\n",
       "    </tr>\n",
       "    <tr>\n",
       "      <th>4</th>\n",
       "      <td>-0.859732</td>\n",
       "      <td>-0.688835</td>\n",
       "      <td>-0.504914</td>\n",
       "      <td>-0.590377</td>\n",
       "      <td>0.921914</td>\n",
       "      <td>-0.791650</td>\n",
       "    </tr>\n",
       "  </tbody>\n",
       "</table>\n",
       "</div>"
      ],
      "text/plain": [
       "   P_incidence    P_tilt   L_angle   S_slope  P_radius  S_Degree\n",
       "0    -1.277922 -0.057898 -0.907904 -1.597803  0.730468 -0.488288\n",
       "1    -0.324010  0.142672 -0.017786 -0.522437  0.596124 -0.647896\n",
       "2    -0.937559 -0.860412 -0.271475 -0.562386  0.849889 -0.568091\n",
       "3    -0.707649 -0.009077 -0.212206 -0.901920  0.831811 -0.725568\n",
       "4    -0.859732 -0.688835 -0.504914 -0.590377  0.921914 -0.791650"
      ]
     },
     "execution_count": 59,
     "metadata": {},
     "output_type": "execute_result"
    }
   ],
   "source": [
    "ss = StandardScaler()\n",
    "normalized = ss.fit_transform(X)\n",
    "ddd = pd.DataFrame(normalized,columns = dff.columns[:-1])\n",
    "ddd.head()"
   ]
  },
  {
   "cell_type": "markdown",
   "metadata": {},
   "source": [
    "## Zscore"
   ]
  },
  {
   "cell_type": "code",
   "execution_count": 60,
   "metadata": {},
   "outputs": [
    {
     "data": {
      "text/html": [
       "<div>\n",
       "<style scoped>\n",
       "    .dataframe tbody tr th:only-of-type {\n",
       "        vertical-align: middle;\n",
       "    }\n",
       "\n",
       "    .dataframe tbody tr th {\n",
       "        vertical-align: top;\n",
       "    }\n",
       "\n",
       "    .dataframe thead th {\n",
       "        text-align: right;\n",
       "    }\n",
       "</style>\n",
       "<table border=\"1\" class=\"dataframe\">\n",
       "  <thead>\n",
       "    <tr style=\"text-align: right;\">\n",
       "      <th></th>\n",
       "      <th>P_incidence</th>\n",
       "      <th>P_tilt</th>\n",
       "      <th>L_angle</th>\n",
       "      <th>S_slope</th>\n",
       "      <th>P_radius</th>\n",
       "      <th>S_Degree</th>\n",
       "    </tr>\n",
       "  </thead>\n",
       "  <tbody>\n",
       "    <tr>\n",
       "      <th>0</th>\n",
       "      <td>-1.277922</td>\n",
       "      <td>-0.057898</td>\n",
       "      <td>-0.907904</td>\n",
       "      <td>-1.597803</td>\n",
       "      <td>0.730468</td>\n",
       "      <td>-0.488288</td>\n",
       "    </tr>\n",
       "    <tr>\n",
       "      <th>1</th>\n",
       "      <td>-0.324010</td>\n",
       "      <td>0.142672</td>\n",
       "      <td>-0.017786</td>\n",
       "      <td>-0.522437</td>\n",
       "      <td>0.596124</td>\n",
       "      <td>-0.647896</td>\n",
       "    </tr>\n",
       "    <tr>\n",
       "      <th>2</th>\n",
       "      <td>-0.937559</td>\n",
       "      <td>-0.860412</td>\n",
       "      <td>-0.271475</td>\n",
       "      <td>-0.562386</td>\n",
       "      <td>0.849889</td>\n",
       "      <td>-0.568091</td>\n",
       "    </tr>\n",
       "    <tr>\n",
       "      <th>3</th>\n",
       "      <td>-0.707649</td>\n",
       "      <td>-0.009077</td>\n",
       "      <td>-0.212206</td>\n",
       "      <td>-0.901920</td>\n",
       "      <td>0.831811</td>\n",
       "      <td>-0.725568</td>\n",
       "    </tr>\n",
       "    <tr>\n",
       "      <th>4</th>\n",
       "      <td>-0.859732</td>\n",
       "      <td>-0.688835</td>\n",
       "      <td>-0.504914</td>\n",
       "      <td>-0.590377</td>\n",
       "      <td>0.921914</td>\n",
       "      <td>-0.791650</td>\n",
       "    </tr>\n",
       "  </tbody>\n",
       "</table>\n",
       "</div>"
      ],
      "text/plain": [
       "   P_incidence    P_tilt   L_angle   S_slope  P_radius  S_Degree\n",
       "0    -1.277922 -0.057898 -0.907904 -1.597803  0.730468 -0.488288\n",
       "1    -0.324010  0.142672 -0.017786 -0.522437  0.596124 -0.647896\n",
       "2    -0.937559 -0.860412 -0.271475 -0.562386  0.849889 -0.568091\n",
       "3    -0.707649 -0.009077 -0.212206 -0.901920  0.831811 -0.725568\n",
       "4    -0.859732 -0.688835 -0.504914 -0.590377  0.921914 -0.791650"
      ]
     },
     "execution_count": 60,
     "metadata": {},
     "output_type": "execute_result"
    }
   ],
   "source": [
    "zz = stats.zscore(X)\n",
    "dde = pd.DataFrame(zz,columns = dff.columns[:-1])\n",
    "dde.head()"
   ]
  },
  {
   "cell_type": "code",
   "execution_count": 61,
   "metadata": {},
   "outputs": [],
   "source": [
    "#We see that both Z score and standarad scaler are the same, we can take any preprocessing output."
   ]
  },
  {
   "cell_type": "markdown",
   "metadata": {},
   "source": [
    "## Check for target balancing. Add your comments."
   ]
  },
  {
   "cell_type": "code",
   "execution_count": 62,
   "metadata": {},
   "outputs": [
    {
     "data": {
      "text/plain": [
       "2    150\n",
       "0    100\n",
       "1     60\n",
       "Name: Class, dtype: int64"
      ]
     },
     "execution_count": 62,
     "metadata": {},
     "output_type": "execute_result"
    }
   ],
   "source": [
    "y.value_counts()"
   ]
  },
  {
   "cell_type": "code",
   "execution_count": 63,
   "metadata": {},
   "outputs": [],
   "source": [
    "# Yes, the classes are imbalanced with class 1 being 40 countsless than class 0 and 90 counts less than class 2, \n",
    "#similarly for others but while splitting this gaps might get reduced, lets check post train test split"
   ]
  },
  {
   "cell_type": "markdown",
   "metadata": {},
   "source": [
    "## Perform train-test split."
   ]
  },
  {
   "cell_type": "code",
   "execution_count": 64,
   "metadata": {},
   "outputs": [],
   "source": [
    "X_train, X_test, y_train, y_test = train_test_split(X, y, test_size=0.3, random_state=110)"
   ]
  },
  {
   "cell_type": "code",
   "execution_count": 65,
   "metadata": {},
   "outputs": [
    {
     "data": {
      "text/plain": [
       "2    107\n",
       "0     68\n",
       "1     42\n",
       "Name: Class, dtype: int64"
      ]
     },
     "execution_count": 65,
     "metadata": {},
     "output_type": "execute_result"
    }
   ],
   "source": [
    "y_train.value_counts()"
   ]
  },
  {
   "cell_type": "code",
   "execution_count": 66,
   "metadata": {},
   "outputs": [],
   "source": [
    "#Once the train test split is done we see the difference between class 1 and 2 has been reduced to 61 in train whereas\n",
    "#in total data it was around 90, we can move with this as of now but we will take care of precision, recall and F1 \n",
    "# score metric to evaluvate our model"
   ]
  },
  {
   "cell_type": "markdown",
   "metadata": {},
   "source": [
    "## Model training, testing and tuning:"
   ]
  },
  {
   "cell_type": "code",
   "execution_count": 67,
   "metadata": {},
   "outputs": [],
   "source": [
    "#Design and train a KNN classifier"
   ]
  },
  {
   "cell_type": "code",
   "execution_count": 68,
   "metadata": {},
   "outputs": [],
   "source": [
    "knn = KNeighborsClassifier(n_neighbors=5)\n",
    "#randomly setting n_neighbours to 5 -----> This is the best model, explained in the end\n",
    "knn.fit(X_train,y_train)\n",
    "pred = knn.predict(X_test)"
   ]
  },
  {
   "cell_type": "code",
   "execution_count": 69,
   "metadata": {},
   "outputs": [],
   "source": [
    "newdf = pd.DataFrame(pred,columns=['Predicted'])\n",
    "newdf['Actual'] = y_test.values"
   ]
  },
  {
   "cell_type": "markdown",
   "metadata": {},
   "source": [
    "## Display the classification accuracies for train and test data."
   ]
  },
  {
   "cell_type": "code",
   "execution_count": 70,
   "metadata": {},
   "outputs": [
    {
     "data": {
      "text/plain": [
       "0.8571428571428571"
      ]
     },
     "execution_count": 70,
     "metadata": {},
     "output_type": "execute_result"
    }
   ],
   "source": [
    "knn.score(X_train,y_train)"
   ]
  },
  {
   "cell_type": "code",
   "execution_count": 71,
   "metadata": {},
   "outputs": [
    {
     "data": {
      "text/plain": [
       "0.8817204301075269"
      ]
     },
     "execution_count": 71,
     "metadata": {},
     "output_type": "execute_result"
    }
   ],
   "source": [
    "knn.score(X_test,y_test)"
   ]
  },
  {
   "cell_type": "code",
   "execution_count": 72,
   "metadata": {},
   "outputs": [],
   "source": [
    "#Looks like the KNN non parametric model is performing little better in test data"
   ]
  },
  {
   "cell_type": "markdown",
   "metadata": {},
   "source": [
    "## Display and explain the classification report in detai"
   ]
  },
  {
   "cell_type": "code",
   "execution_count": 74,
   "metadata": {},
   "outputs": [
    {
     "name": "stdout",
     "output_type": "stream",
     "text": [
      "              precision    recall  f1-score   support\n",
      "\n",
      "           0       0.82      0.84      0.83        32\n",
      "           1       0.76      0.72      0.74        18\n",
      "           2       0.98      0.98      0.98        43\n",
      "\n",
      "    accuracy                           0.88        93\n",
      "   macro avg       0.85      0.85      0.85        93\n",
      "weighted avg       0.88      0.88      0.88        93\n",
      "\n"
     ]
    }
   ],
   "source": [
    "print(classification_report(y_test,pred))\n",
    "# Recall being the true positive rate, comes at 84% on detecting class 0 , 76% on detecting class 1 and 98% on detecting class 2\n",
    "# Precision being the metric to show how many were calculate as positive at which how many were actually positive shows 82% for class0,76% for class1 and 98% for class 2\n",
    "# F1 score being the trade off of both precision and recall is at 83% for class 0, 74% at class1 and 98% for class 2\n",
    "\n",
    "#In general we are unsure as to which class contributes to a bad or worse class, we might have to get confirmation from\n",
    "#Domain expertise and then decide on precision or Recall as right metric, in general F1 score will be better for all scenarios\n",
    "#Overall this looks like a better KNN prediction with n neighbours=5"
   ]
  },
  {
   "cell_type": "code",
   "execution_count": 75,
   "metadata": {},
   "outputs": [
    {
     "name": "stdout",
     "output_type": "stream",
     "text": [
      "[[27  4  1]\n",
      " [ 5 13  0]\n",
      " [ 1  0 42]]\n"
     ]
    }
   ],
   "source": [
    "print(confusion_matrix(y_test,pred))\n",
    "# confusion matrix shows 82 of them being correctly classified and only 11 of them being incorrectly classified out of total 93 test data"
   ]
  },
  {
   "cell_type": "markdown",
   "metadata": {},
   "source": [
    "## Automate the task of finding best values of K for KNN"
   ]
  },
  {
   "cell_type": "code",
   "execution_count": 217,
   "metadata": {},
   "outputs": [],
   "source": [
    "#Even though the above model displays a better metric, its always good to try out with multiple K values"
   ]
  },
  {
   "cell_type": "code",
   "execution_count": 77,
   "metadata": {},
   "outputs": [
    {
     "name": "stdout",
     "output_type": "stream",
     "text": [
      "1\n",
      "[[29  2  1]\n",
      " [ 8 10  0]\n",
      " [ 1  0 42]]\n",
      "\n",
      "2\n",
      "[[32  0  0]\n",
      " [13  5  0]\n",
      " [ 1  0 42]]\n",
      "\n",
      "3\n",
      "[[26  6  0]\n",
      " [ 8 10  0]\n",
      " [ 1  0 42]]\n",
      "\n",
      "4\n",
      "[[30  2  0]\n",
      " [10  8  0]\n",
      " [ 1  0 42]]\n",
      "\n",
      "5\n",
      "[[27  4  1]\n",
      " [ 5 13  0]\n",
      " [ 1  0 42]]\n",
      "\n",
      "6\n",
      "[[30  2  0]\n",
      " [ 9  9  0]\n",
      " [ 1  0 42]]\n",
      "\n",
      "7\n",
      "[[29  2  1]\n",
      " [ 7 11  0]\n",
      " [ 1  0 42]]\n",
      "\n",
      "8\n",
      "[[30  1  1]\n",
      " [10  8  0]\n",
      " [ 1  0 42]]\n",
      "\n",
      "9\n",
      "[[30  1  1]\n",
      " [10  8  0]\n",
      " [ 1  0 42]]\n",
      "\n",
      "10\n",
      "[[31  1  0]\n",
      " [11  7  0]\n",
      " [ 1  0 42]]\n",
      "\n",
      "11\n",
      "[[29  2  1]\n",
      " [ 8 10  0]\n",
      " [ 1  0 42]]\n",
      "\n",
      "12\n",
      "[[31  1  0]\n",
      " [ 9  9  0]\n",
      " [ 1  0 42]]\n",
      "\n",
      "13\n",
      "[[29  2  1]\n",
      " [ 8 10  0]\n",
      " [ 1  0 42]]\n",
      "\n",
      "14\n",
      "[[29  2  1]\n",
      " [12  6  0]\n",
      " [ 1  0 42]]\n",
      "\n",
      "15\n",
      "[[28  3  1]\n",
      " [10  8  0]\n",
      " [ 1  0 42]]\n",
      "\n",
      "16\n",
      "[[28  3  1]\n",
      " [11  7  0]\n",
      " [ 1  0 42]]\n",
      "\n",
      "17\n",
      "[[28  3  1]\n",
      " [ 9  9  0]\n",
      " [ 1  0 42]]\n",
      "\n",
      "18\n",
      "[[29  2  1]\n",
      " [11  7  0]\n",
      " [ 1  0 42]]\n",
      "\n",
      "19\n",
      "[[28  3  1]\n",
      " [ 9  9  0]\n",
      " [ 1  0 42]]\n",
      "\n",
      "20\n",
      "[[29  2  1]\n",
      " [10  8  0]\n",
      " [ 1  0 42]]\n",
      "\n",
      "21\n",
      "[[29  2  1]\n",
      " [ 9  9  0]\n",
      " [ 1  0 42]]\n",
      "\n",
      "22\n",
      "[[29  2  1]\n",
      " [ 9  9  0]\n",
      " [ 1  0 42]]\n",
      "\n",
      "23\n",
      "[[28  3  1]\n",
      " [ 9  9  0]\n",
      " [ 1  0 42]]\n",
      "\n",
      "24\n",
      "[[29  2  1]\n",
      " [10  8  0]\n",
      " [ 1  0 42]]\n",
      "\n",
      "25\n",
      "[[28  3  1]\n",
      " [ 8 10  0]\n",
      " [ 1  0 42]]\n",
      "\n",
      "26\n",
      "[[28  3  1]\n",
      " [11  7  0]\n",
      " [ 1  0 42]]\n",
      "\n",
      "27\n",
      "[[28  3  1]\n",
      " [10  8  0]\n",
      " [ 1  0 42]]\n",
      "\n",
      "28\n",
      "[[29  2  1]\n",
      " [10  8  0]\n",
      " [ 1  0 42]]\n",
      "\n",
      "29\n",
      "[[28  3  1]\n",
      " [ 9  9  0]\n",
      " [ 1  0 42]]\n",
      "\n",
      "30\n",
      "[[28  3  1]\n",
      " [10  8  0]\n",
      " [ 1  0 42]]\n",
      "\n",
      "31\n",
      "[[28  3  1]\n",
      " [ 9  9  0]\n",
      " [ 1  0 42]]\n",
      "\n",
      "32\n",
      "[[28  3  1]\n",
      " [12  6  0]\n",
      " [ 1  0 42]]\n",
      "\n",
      "33\n",
      "[[28  3  1]\n",
      " [10  8  0]\n",
      " [ 1  0 42]]\n",
      "\n",
      "34\n",
      "[[28  3  1]\n",
      " [11  7  0]\n",
      " [ 1  0 42]]\n",
      "\n",
      "35\n",
      "[[28  3  1]\n",
      " [10  8  0]\n",
      " [ 1  0 42]]\n",
      "\n",
      "36\n",
      "[[28  3  1]\n",
      " [12  6  0]\n",
      " [ 1  0 42]]\n",
      "\n",
      "37\n",
      "[[28  3  1]\n",
      " [12  6  0]\n",
      " [ 1  0 42]]\n",
      "\n",
      "38\n",
      "[[28  3  1]\n",
      " [12  6  0]\n",
      " [ 1  0 42]]\n",
      "\n",
      "39\n",
      "[[28  3  1]\n",
      " [13  5  0]\n",
      " [ 1  0 42]]\n",
      "\n",
      "40\n",
      "[[29  2  1]\n",
      " [13  5  0]\n",
      " [ 1  0 42]]\n",
      "\n",
      "41\n",
      "[[28  3  1]\n",
      " [11  7  0]\n",
      " [ 1  0 42]]\n",
      "\n",
      "42\n",
      "[[29  2  1]\n",
      " [13  5  0]\n",
      " [ 1  0 42]]\n",
      "\n",
      "43\n",
      "[[29  2  1]\n",
      " [11  7  0]\n",
      " [ 1  0 42]]\n",
      "\n",
      "44\n",
      "[[29  2  1]\n",
      " [12  6  0]\n",
      " [ 1  0 42]]\n",
      "\n",
      "45\n",
      "[[29  2  1]\n",
      " [11  7  0]\n",
      " [ 1  0 42]]\n",
      "\n",
      "46\n",
      "[[29  2  1]\n",
      " [13  5  0]\n",
      " [ 1  0 42]]\n",
      "\n",
      "47\n",
      "[[29  2  1]\n",
      " [13  5  0]\n",
      " [ 1  0 42]]\n",
      "\n",
      "48\n",
      "[[30  1  1]\n",
      " [14  4  0]\n",
      " [ 1  0 42]]\n",
      "\n",
      "49\n",
      "[[30  1  1]\n",
      " [12  6  0]\n",
      " [ 1  0 42]]\n",
      "\n"
     ]
    }
   ],
   "source": [
    "error = []\n",
    "\n",
    "for k in range(1,50):\n",
    "    knn = KNeighborsClassifier(n_neighbors=k)\n",
    "    knn.fit(X_train,y_train)\n",
    "    pred = knn.predict(X_test)\n",
    "    error.append(np.mean(pred != y_test))\n",
    "    print(k)\n",
    "    print(confusion_matrix(y_test,pred))\n",
    "    print()"
   ]
  },
  {
   "cell_type": "code",
   "execution_count": 78,
   "metadata": {},
   "outputs": [
    {
     "data": {
      "text/plain": [
       "Text(0, 0.5, 'Error')"
      ]
     },
     "execution_count": 78,
     "metadata": {},
     "output_type": "execute_result"
    },
    {
     "data": {
      "image/png": "[encoded data removed]",
      "text/plain": [
       "<Figure size 720x432 with 1 Axes>"
      ]
     },
     "metadata": {
      "needs_background": "light"
     },
     "output_type": "display_data"
    }
   ],
   "source": [
    "plt.figure(figsize=(10,6))\n",
    "plt.plot(range(1,50),error,linestyle='dashed', marker='o', markersize=10)\n",
    "plt.title('Error vs. K Value')\n",
    "plt.xlabel('K')\n",
    "plt.ylabel('Error')"
   ]
  },
  {
   "cell_type": "code",
   "execution_count": 244,
   "metadata": {},
   "outputs": [
    {
     "data": {
      "text/plain": [
       "P_incidence    310\n",
       "P_tilt         310\n",
       "L_angle        310\n",
       "S_slope        310\n",
       "P_radius       310\n",
       "S_Degree       310\n",
       "Class          310\n",
       "dtype: int64"
      ]
     },
     "execution_count": 244,
     "metadata": {},
     "output_type": "execute_result"
    }
   ],
   "source": [
    "dff.count()"
   ]
  },
  {
   "cell_type": "markdown",
   "metadata": {},
   "source": [
    "## k = 5 or k = 7 can be taken but with k = 7 we see that the False Negative increases to 8 whereas in k=5 the FN comes down to 6 so we choose k = 5"
   ]
  },
  {
   "cell_type": "markdown",
   "metadata": {},
   "source": [
    "## Apply  all  the  possible  tuning  techniques  to  train  the  best  model  for  the  given  data.  Select  the final  best  trained model with your comments for selecting this model. "
   ]
  },
  {
   "cell_type": "code",
   "execution_count": 307,
   "metadata": {},
   "outputs": [
    {
     "name": "stdout",
     "output_type": "stream",
     "text": [
      "manhattan\n",
      "[[27  4  1]\n",
      " [ 6 12  0]\n",
      " [ 2  0 41]]\n",
      "\n",
      "              precision    recall  f1-score   support\n",
      "\n",
      "           0       0.77      0.84      0.81        32\n",
      "           1       0.75      0.67      0.71        18\n",
      "           2       0.98      0.95      0.96        43\n",
      "\n",
      "    accuracy                           0.86        93\n",
      "   macro avg       0.83      0.82      0.83        93\n",
      "weighted avg       0.86      0.86      0.86        93\n",
      "\n",
      "\n",
      "minkowski\n",
      "[[27  4  1]\n",
      " [ 5 13  0]\n",
      " [ 1  0 42]]\n",
      "\n",
      "              precision    recall  f1-score   support\n",
      "\n",
      "           0       0.82      0.84      0.83        32\n",
      "           1       0.76      0.72      0.74        18\n",
      "           2       0.98      0.98      0.98        43\n",
      "\n",
      "    accuracy                           0.88        93\n",
      "   macro avg       0.85      0.85      0.85        93\n",
      "weighted avg       0.88      0.88      0.88        93\n",
      "\n",
      "\n",
      "cosine\n",
      "[[25  7  0]\n",
      " [11  7  0]\n",
      " [ 1  0 42]]\n",
      "\n",
      "              precision    recall  f1-score   support\n",
      "\n",
      "           0       0.68      0.78      0.72        32\n",
      "           1       0.50      0.39      0.44        18\n",
      "           2       1.00      0.98      0.99        43\n",
      "\n",
      "    accuracy                           0.80        93\n",
      "   macro avg       0.73      0.72      0.72        93\n",
      "weighted avg       0.79      0.80      0.79        93\n",
      "\n",
      "\n"
     ]
    }
   ],
   "source": [
    "distance = ['manhattan','minkowski','cosine']\n",
    "error = []\n",
    "for d in distance:\n",
    "    knn = KNeighborsClassifier(n_neighbors=5,metric = d)\n",
    "    knn.fit(X_train,y_train)\n",
    "    pred = knn.predict(X_test)\n",
    "    error.append(np.mean(pred != y_test))\n",
    "    print(d)\n",
    "    print(confusion_matrix(y_test,pred))\n",
    "    print()\n",
    "    print(classification_report(y_test,pred))\n",
    "    print()\n",
    "    "
   ]
  },
  {
   "cell_type": "markdown",
   "metadata": {},
   "source": [
    "# Conclusion and improvisation:"
   ]
  },
  {
   "cell_type": "markdown",
   "metadata": {},
   "source": [
    "# The default Minkowski distance does well and the k value = 5 does give the lowest False negative as well. So,  we leave the distance as default and take the initial KNN as the best trained model"
   ]
  },
  {
   "cell_type": "raw",
   "metadata": {},
   "source": [
    "Its always not suggested to use KNN model for a production model but incase if you wish to use its always better to be very clear with the type of data we handle. Based on the type of data (ie) the way how the data is spread we will choose the right set of KNN algorithm."
   ]
  },
  {
   "cell_type": "raw",
   "metadata": {},
   "source": [
    "Additionaly, we are unsure what classes mean what. We see there is a normal class and the other 2 as Type's but we are not sure if it is malignant or benign. We might have to connect with the domain expertise and ask for those 2 classes details and then try focusing on reducing FN"
   ]
  },
  {
   "cell_type": "raw",
   "metadata": {},
   "source": [
    "The more the Data in added to the module, we will have to try out for the better K value and alsoright distances metric based on which provides a better result"
   ]
  },
  {
   "cell_type": "raw",
   "metadata": {},
   "source": [
    "Once a model is put in production, one has to be very sure about the level at which the model is automated as the number of inputs that come in production can behigher.  It should be completely automated to take any type of input say inputs which are numbers, inputs that are letter, number with units, without units and one has to not only prepare a model but also prepare a function that in general takes an input, tests all the data types and performs normalization if required and then applies it to the model and displays the prediction. "
   ]
  },
  {
   "cell_type": "raw",
   "metadata": {},
   "source": [
    "Data might come from different sources in different formats. Data can be in the form of excel file which can be directly converted to DF and in other cases completely unstructured. In these cases there must be an inbuilt methods and function that identifies all these and process the data accordingly."
   ]
  },
  {
   "cell_type": "raw",
   "metadata": {},
   "source": [
    "To perform a better analysis, the moment we provide a prediction to a customer we can try taking in feedback which can be very helpful, the feedbacks that are yes can be treated as the success and those data can also be used to train the model further incases of unbalanced classes like above, incases where the feedback is no which means the prediction was wrong, in those cases we can take the input and their output store them seperately, identify where the miss had occurred and try tuning the model better"
   ]
  }
 ],
 "metadata": {
  "kernelspec": {
   "display_name": "Python 3",
   "language": "python",
   "name": "python3"
  },
  "language_info": {
   "codemirror_mode": {
    "name": "ipython",
    "version": 3
   },
   "file_extension": ".py",
   "mimetype": "text/x-python",
   "name": "python",
   "nbconvert_exporter": "python",
   "pygments_lexer": "ipython3",
   "version": "3.8.5"
  }
 },
 "nbformat": 4,
 "nbformat_minor": 4
}
